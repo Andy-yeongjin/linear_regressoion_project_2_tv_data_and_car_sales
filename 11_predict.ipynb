{
 "cells": [
  {
   "cell_type": "code",
   "execution_count": 1,
   "id": "31f2b104",
   "metadata": {},
   "outputs": [
    {
     "name": "stdout",
     "output_type": "stream",
     "text": [
      "11_predict.ipynb               toyota_a.csv\r\n",
      "202011month.csv                toyota_kfold3.py\r\n",
      "deeplearning (2).zip           toyota_model_report_final.pptx\r\n",
      "\u001b[1m\u001b[36melu_SGD_final\u001b[m\u001b[m                  toyota_n.py\r\n",
      "\u001b[1m\u001b[36melu_adam_final\u001b[m\u001b[m                 toyota_new.csv\r\n",
      "hunger.csv                     toyota_prediction_final.csv\r\n",
      "predicting.py\r\n"
     ]
    }
   ],
   "source": [
    "!ls"
   ]
  },
  {
   "cell_type": "code",
   "execution_count": 27,
   "id": "9998e367",
   "metadata": {},
   "outputs": [],
   "source": [
    "origin = pd.read_csv('./toyota_a.csv')"
   ]
  },
  {
   "cell_type": "code",
   "execution_count": 28,
   "id": "bb8eab79",
   "metadata": {},
   "outputs": [],
   "source": [
    "data = origin[(origin['year'] == 2020) & (origin['Month_11월'] == 1)] "
   ]
  },
  {
   "cell_type": "code",
   "execution_count": 29,
   "id": "a9b5289c",
   "metadata": {},
   "outputs": [],
   "source": [
    "data = data[data['grp'] != 0]\n",
    "data.reset_index(drop=True, inplace=True)"
   ]
  },
  {
   "cell_type": "code",
   "execution_count": 30,
   "id": "0b2b3cce",
   "metadata": {},
   "outputs": [],
   "source": [
    "data2 = data.drop(['Reach12+', 'Reach15+', 'year', 'new_reg', 'after_1m',\n",
    "       'after_2m', 'after_3m', 'after_4m', 'after_5m', 'after_6m', 'log_0', 'log_1', 'log_2', 'log_3', 'log_4', 'log_5',\n",
    "       'log_6'], 1)"
   ]
  },
  {
   "cell_type": "code",
   "execution_count": 31,
   "id": "4b3b4fae",
   "metadata": {},
   "outputs": [],
   "source": [
    "from sklearn.preprocessing import MinMaxScaler\n",
    "from sklearn.preprocessing import StandardScaler\n",
    "from sklearn.preprocessing import RobustScaler\n",
    "from sklearn.model_selection import train_test_split"
   ]
  },
  {
   "cell_type": "code",
   "execution_count": 32,
   "id": "84d3ad50",
   "metadata": {},
   "outputs": [],
   "source": [
    "# 브랜드 데이터 불러오기 - scaler를 사용하기 위함\n",
    "car_df = pd.read_csv('./toyota_new.csv') \n",
    "\n",
    "\n",
    "mm = MinMaxScaler()\n",
    "ss = StandardScaler()\n",
    "rs = RobustScaler()\n",
    "\n",
    "\n",
    "X = car_df.drop([\"year\", 'new_reg', 'after_1m', \n",
    "       'after_2m', 'after_3m', 'after_4m', 'after_5m', 'after_6m','log_0', 'log_1', 'log_2', 'log_3', 'log_4',\n",
    "       'log_5', 'log_6', \"Reach15+\", \"Reach12+\"],1)\n",
    "y = car_df['log_0']\n",
    "\n",
    "\n",
    "X_train, X_test, y_train, y_test = train_test_split(X, y, test_size=0.2, random_state=13, shuffle=True)\n",
    "\n",
    "ss_f = ss.fit(X_train)"
   ]
  },
  {
   "cell_type": "code",
   "execution_count": 33,
   "id": "21bb1713",
   "metadata": {},
   "outputs": [],
   "source": [
    "from tensorflow.keras.models import load_model"
   ]
  },
  {
   "cell_type": "code",
   "execution_count": 34,
   "id": "99e481df",
   "metadata": {},
   "outputs": [],
   "source": [
    "data3 = ss_f.transform(data2)"
   ]
  },
  {
   "cell_type": "code",
   "execution_count": 35,
   "id": "bc84bdc6",
   "metadata": {},
   "outputs": [],
   "source": [
    "# modeldirs = [\"./elu_SGD_final/0_best_model.h5\",\n",
    "#              \"./elu_adam_final/1_best_model.h5\",\n",
    "#              \"./elu_SGD_final/2_best_model.h5\",\n",
    "#              \"./elu_adam_final/3_best_model.h5\",\n",
    "#              \"./elu_adam_final/4_best_model.h5\",\n",
    "#              \"./elu_adam_final/5_best_model.h5\",\n",
    "#              \"./elu_SGD_final/6_best_model.h5\","
   ]
  },
  {
   "cell_type": "code",
   "execution_count": 41,
   "id": "9abe3247",
   "metadata": {},
   "outputs": [
    {
     "name": "stdout",
     "output_type": "stream",
     "text": [
      "WARNING:tensorflow:Model was constructed with shape (None, 463, 31) for input KerasTensor(type_spec=TensorSpec(shape=(None, 463, 31), dtype=tf.float32, name='dense_input'), name='dense_input', description=\"created by layer 'dense_input'\"), but it was called on an input with incompatible shape (None, 31).\n",
      "WARNING:tensorflow:11 out of the last 11 calls to <function Model.make_predict_function.<locals>.predict_function at 0x7fd7ed137290> triggered tf.function retracing. Tracing is expensive and the excessive number of tracings could be due to (1) creating @tf.function repeatedly in a loop, (2) passing tensors with different shapes, (3) passing Python objects instead of tensors. For (1), please define your @tf.function outside of the loop. For (2), @tf.function has experimental_relax_shapes=True option that relaxes argument shapes that can avoid unnecessary retracing. For (3), please refer to https://www.tensorflow.org/guide/function#controlling_retracing and https://www.tensorflow.org/api_docs/python/tf/function for  more details.\n",
      "WARNING:tensorflow:Model was constructed with shape (None, 463, 31) for input KerasTensor(type_spec=TensorSpec(shape=(None, 463, 31), dtype=tf.float32, name='dense_input'), name='dense_input', description=\"created by layer 'dense_input'\"), but it was called on an input with incompatible shape (None, 31).\n",
      "WARNING:tensorflow:11 out of the last 11 calls to <function Model.make_predict_function.<locals>.predict_function at 0x7fd7ed322950> triggered tf.function retracing. Tracing is expensive and the excessive number of tracings could be due to (1) creating @tf.function repeatedly in a loop, (2) passing tensors with different shapes, (3) passing Python objects instead of tensors. For (1), please define your @tf.function outside of the loop. For (2), @tf.function has experimental_relax_shapes=True option that relaxes argument shapes that can avoid unnecessary retracing. For (3), please refer to https://www.tensorflow.org/guide/function#controlling_retracing and https://www.tensorflow.org/api_docs/python/tf/function for  more details.\n",
      "WARNING:tensorflow:Model was constructed with shape (None, 463, 31) for input KerasTensor(type_spec=TensorSpec(shape=(None, 463, 31), dtype=tf.float32, name='dense_input'), name='dense_input', description=\"created by layer 'dense_input'\"), but it was called on an input with incompatible shape (None, 31).\n",
      "WARNING:tensorflow:11 out of the last 11 calls to <function Model.make_predict_function.<locals>.predict_function at 0x7fd7ed39cc20> triggered tf.function retracing. Tracing is expensive and the excessive number of tracings could be due to (1) creating @tf.function repeatedly in a loop, (2) passing tensors with different shapes, (3) passing Python objects instead of tensors. For (1), please define your @tf.function outside of the loop. For (2), @tf.function has experimental_relax_shapes=True option that relaxes argument shapes that can avoid unnecessary retracing. For (3), please refer to https://www.tensorflow.org/guide/function#controlling_retracing and https://www.tensorflow.org/api_docs/python/tf/function for  more details.\n",
      "WARNING:tensorflow:Model was constructed with shape (None, 463, 31) for input KerasTensor(type_spec=TensorSpec(shape=(None, 463, 31), dtype=tf.float32, name='dense_input'), name='dense_input', description=\"created by layer 'dense_input'\"), but it was called on an input with incompatible shape (None, 31).\n",
      "WARNING:tensorflow:11 out of the last 11 calls to <function Model.make_predict_function.<locals>.predict_function at 0x7fd7ed322440> triggered tf.function retracing. Tracing is expensive and the excessive number of tracings could be due to (1) creating @tf.function repeatedly in a loop, (2) passing tensors with different shapes, (3) passing Python objects instead of tensors. For (1), please define your @tf.function outside of the loop. For (2), @tf.function has experimental_relax_shapes=True option that relaxes argument shapes that can avoid unnecessary retracing. For (3), please refer to https://www.tensorflow.org/guide/function#controlling_retracing and https://www.tensorflow.org/api_docs/python/tf/function for  more details.\n",
      "WARNING:tensorflow:Model was constructed with shape (None, 463, 31) for input KerasTensor(type_spec=TensorSpec(shape=(None, 463, 31), dtype=tf.float32, name='dense_input'), name='dense_input', description=\"created by layer 'dense_input'\"), but it was called on an input with incompatible shape (None, 31).\n",
      "WARNING:tensorflow:11 out of the last 11 calls to <function Model.make_predict_function.<locals>.predict_function at 0x7fd7ed376950> triggered tf.function retracing. Tracing is expensive and the excessive number of tracings could be due to (1) creating @tf.function repeatedly in a loop, (2) passing tensors with different shapes, (3) passing Python objects instead of tensors. For (1), please define your @tf.function outside of the loop. For (2), @tf.function has experimental_relax_shapes=True option that relaxes argument shapes that can avoid unnecessary retracing. For (3), please refer to https://www.tensorflow.org/guide/function#controlling_retracing and https://www.tensorflow.org/api_docs/python/tf/function for  more details.\n",
      "WARNING:tensorflow:Model was constructed with shape (None, 463, 31) for input KerasTensor(type_spec=TensorSpec(shape=(None, 463, 31), dtype=tf.float32, name='dense_input'), name='dense_input', description=\"created by layer 'dense_input'\"), but it was called on an input with incompatible shape (None, 31).\n",
      "WARNING:tensorflow:11 out of the last 11 calls to <function Model.make_predict_function.<locals>.predict_function at 0x7fd7ed554170> triggered tf.function retracing. Tracing is expensive and the excessive number of tracings could be due to (1) creating @tf.function repeatedly in a loop, (2) passing tensors with different shapes, (3) passing Python objects instead of tensors. For (1), please define your @tf.function outside of the loop. For (2), @tf.function has experimental_relax_shapes=True option that relaxes argument shapes that can avoid unnecessary retracing. For (3), please refer to https://www.tensorflow.org/guide/function#controlling_retracing and https://www.tensorflow.org/api_docs/python/tf/function for  more details.\n",
      "WARNING:tensorflow:Model was constructed with shape (None, 463, 31) for input KerasTensor(type_spec=TensorSpec(shape=(None, 463, 31), dtype=tf.float32, name='dense_input'), name='dense_input', description=\"created by layer 'dense_input'\"), but it was called on an input with incompatible shape (None, 31).\n",
      "WARNING:tensorflow:11 out of the last 11 calls to <function Model.make_predict_function.<locals>.predict_function at 0x7fd7ed302440> triggered tf.function retracing. Tracing is expensive and the excessive number of tracings could be due to (1) creating @tf.function repeatedly in a loop, (2) passing tensors with different shapes, (3) passing Python objects instead of tensors. For (1), please define your @tf.function outside of the loop. For (2), @tf.function has experimental_relax_shapes=True option that relaxes argument shapes that can avoid unnecessary retracing. For (3), please refer to https://www.tensorflow.org/guide/function#controlling_retracing and https://www.tensorflow.org/api_docs/python/tf/function for  more details.\n"
     ]
    }
   ],
   "source": [
    "model = load_model(\"./elu_SGD_final/0_best_model.h5\")\n",
    "reg_0 = data[['new_reg']]+1 - np.exp(model.predict(data3))\n",
    "\n",
    "model = load_model(\"./elu_adam_final/1_best_model.h5\")\n",
    "reg_1 = data[['after_1m']]+1 - np.exp(model.predict(data3))\n",
    "\n",
    "model = load_model(\"./elu_SGD_final/2_best_model.h5\")\n",
    "reg_2 = data[['after_2m']]+1 - np.exp(model.predict(data3))\n",
    "\n",
    "model = load_model(\"./elu_adam_final/3_best_model.h5\")\n",
    "reg_3 = data[['after_3m']]+1 - np.exp(model.predict(data3))\n",
    "\n",
    "model = load_model(\"./elu_SGD_final/4_best_model.h5\")\n",
    "reg_4 = data[['after_4m']]+1 - np.exp(model.predict(data3))\n",
    "\n",
    "model = load_model(\"./elu_adam_final/5_best_model.h5\")\n",
    "reg_5 = data[['after_5m']]+1 - np.exp(model.predict(data3))\n",
    "\n",
    "model = load_model(\"./elu_SGD_final/6_best_model.h5\")\n",
    "reg_6 = data[['after_6m']]+1 - np.exp(model.predict(data3))"
   ]
  },
  {
   "cell_type": "code",
   "execution_count": 42,
   "id": "781346ce",
   "metadata": {},
   "outputs": [],
   "source": [
    "pred = pd.concat([reg_0,reg_1,reg_2,reg_3,reg_4,reg_5],1)"
   ]
  },
  {
   "cell_type": "code",
   "execution_count": null,
   "id": "8cab77fb",
   "metadata": {},
   "outputs": [],
   "source": [
    "0, 5, 10, 14, 15"
   ]
  },
  {
   "cell_type": "code",
   "execution_count": 43,
   "id": "328c89bc",
   "metadata": {},
   "outputs": [
    {
     "data": {
      "text/html": [
       "<div>\n",
       "<style scoped>\n",
       "    .dataframe tbody tr th:only-of-type {\n",
       "        vertical-align: middle;\n",
       "    }\n",
       "\n",
       "    .dataframe tbody tr th {\n",
       "        vertical-align: top;\n",
       "    }\n",
       "\n",
       "    .dataframe thead th {\n",
       "        text-align: right;\n",
       "    }\n",
       "</style>\n",
       "<table border=\"1\" class=\"dataframe\">\n",
       "  <thead>\n",
       "    <tr style=\"text-align: right;\">\n",
       "      <th></th>\n",
       "      <th>new_reg</th>\n",
       "      <th>after_1m</th>\n",
       "      <th>after_2m</th>\n",
       "      <th>after_3m</th>\n",
       "      <th>after_4m</th>\n",
       "      <th>after_5m</th>\n",
       "    </tr>\n",
       "  </thead>\n",
       "  <tbody>\n",
       "    <tr>\n",
       "      <th>0</th>\n",
       "      <td>-4.590791</td>\n",
       "      <td>0.839437</td>\n",
       "      <td>-0.101318</td>\n",
       "      <td>2.459495</td>\n",
       "      <td>-2.247584</td>\n",
       "      <td>-2.769866</td>\n",
       "    </tr>\n",
       "    <tr>\n",
       "      <th>1</th>\n",
       "      <td>-3.346974</td>\n",
       "      <td>4.264217</td>\n",
       "      <td>5.762056</td>\n",
       "      <td>8.336064</td>\n",
       "      <td>8.794453</td>\n",
       "      <td>-4.008535</td>\n",
       "    </tr>\n",
       "    <tr>\n",
       "      <th>2</th>\n",
       "      <td>12.559870</td>\n",
       "      <td>13.174046</td>\n",
       "      <td>23.063838</td>\n",
       "      <td>28.022776</td>\n",
       "      <td>38.401010</td>\n",
       "      <td>14.081646</td>\n",
       "    </tr>\n",
       "    <tr>\n",
       "      <th>3</th>\n",
       "      <td>21.219728</td>\n",
       "      <td>10.063373</td>\n",
       "      <td>15.816314</td>\n",
       "      <td>30.609564</td>\n",
       "      <td>33.190406</td>\n",
       "      <td>9.361546</td>\n",
       "    </tr>\n",
       "    <tr>\n",
       "      <th>4</th>\n",
       "      <td>2.258589</td>\n",
       "      <td>4.679912</td>\n",
       "      <td>21.749115</td>\n",
       "      <td>14.724231</td>\n",
       "      <td>33.337848</td>\n",
       "      <td>9.913436</td>\n",
       "    </tr>\n",
       "    <tr>\n",
       "      <th>5</th>\n",
       "      <td>-8.331899</td>\n",
       "      <td>3.259344</td>\n",
       "      <td>10.430508</td>\n",
       "      <td>4.304437</td>\n",
       "      <td>11.728689</td>\n",
       "      <td>1.429482</td>\n",
       "    </tr>\n",
       "    <tr>\n",
       "      <th>6</th>\n",
       "      <td>-0.121159</td>\n",
       "      <td>5.458573</td>\n",
       "      <td>17.300451</td>\n",
       "      <td>33.574948</td>\n",
       "      <td>-3.022797</td>\n",
       "      <td>6.822054</td>\n",
       "    </tr>\n",
       "    <tr>\n",
       "      <th>7</th>\n",
       "      <td>23.444584</td>\n",
       "      <td>5.308001</td>\n",
       "      <td>5.058805</td>\n",
       "      <td>49.408895</td>\n",
       "      <td>30.150465</td>\n",
       "      <td>22.360472</td>\n",
       "    </tr>\n",
       "    <tr>\n",
       "      <th>8</th>\n",
       "      <td>53.437860</td>\n",
       "      <td>18.559052</td>\n",
       "      <td>46.605942</td>\n",
       "      <td>62.089044</td>\n",
       "      <td>60.973366</td>\n",
       "      <td>11.966213</td>\n",
       "    </tr>\n",
       "    <tr>\n",
       "      <th>9</th>\n",
       "      <td>22.196431</td>\n",
       "      <td>17.256965</td>\n",
       "      <td>34.522816</td>\n",
       "      <td>40.431659</td>\n",
       "      <td>55.348940</td>\n",
       "      <td>14.050494</td>\n",
       "    </tr>\n",
       "    <tr>\n",
       "      <th>10</th>\n",
       "      <td>-2.050202</td>\n",
       "      <td>0.914630</td>\n",
       "      <td>0.366927</td>\n",
       "      <td>0.428659</td>\n",
       "      <td>-2.905943</td>\n",
       "      <td>-2.110672</td>\n",
       "    </tr>\n",
       "    <tr>\n",
       "      <th>11</th>\n",
       "      <td>-9.502831</td>\n",
       "      <td>23.403690</td>\n",
       "      <td>18.643395</td>\n",
       "      <td>14.155526</td>\n",
       "      <td>-14.408306</td>\n",
       "      <td>0.988191</td>\n",
       "    </tr>\n",
       "    <tr>\n",
       "      <th>12</th>\n",
       "      <td>2.032610</td>\n",
       "      <td>34.556989</td>\n",
       "      <td>22.996629</td>\n",
       "      <td>33.731172</td>\n",
       "      <td>13.273739</td>\n",
       "      <td>14.813892</td>\n",
       "    </tr>\n",
       "    <tr>\n",
       "      <th>13</th>\n",
       "      <td>11.986596</td>\n",
       "      <td>31.480279</td>\n",
       "      <td>12.237557</td>\n",
       "      <td>26.434039</td>\n",
       "      <td>32.620356</td>\n",
       "      <td>7.487515</td>\n",
       "    </tr>\n",
       "    <tr>\n",
       "      <th>14</th>\n",
       "      <td>-4.307533</td>\n",
       "      <td>16.948678</td>\n",
       "      <td>6.321887</td>\n",
       "      <td>10.662086</td>\n",
       "      <td>4.251719</td>\n",
       "      <td>-2.252872</td>\n",
       "    </tr>\n",
       "    <tr>\n",
       "      <th>15</th>\n",
       "      <td>-6.434308</td>\n",
       "      <td>5.615258</td>\n",
       "      <td>0.936628</td>\n",
       "      <td>4.176338</td>\n",
       "      <td>5.114861</td>\n",
       "      <td>10.001364</td>\n",
       "    </tr>\n",
       "    <tr>\n",
       "      <th>16</th>\n",
       "      <td>-1.538902</td>\n",
       "      <td>51.640849</td>\n",
       "      <td>38.977859</td>\n",
       "      <td>51.111509</td>\n",
       "      <td>-3.433258</td>\n",
       "      <td>59.285677</td>\n",
       "    </tr>\n",
       "    <tr>\n",
       "      <th>17</th>\n",
       "      <td>10.950245</td>\n",
       "      <td>71.705986</td>\n",
       "      <td>-5.023377</td>\n",
       "      <td>10.195730</td>\n",
       "      <td>-10.827793</td>\n",
       "      <td>-2.035814</td>\n",
       "    </tr>\n",
       "    <tr>\n",
       "      <th>18</th>\n",
       "      <td>34.459172</td>\n",
       "      <td>77.640659</td>\n",
       "      <td>49.814645</td>\n",
       "      <td>41.877623</td>\n",
       "      <td>36.208462</td>\n",
       "      <td>28.014931</td>\n",
       "    </tr>\n",
       "    <tr>\n",
       "      <th>19</th>\n",
       "      <td>20.195143</td>\n",
       "      <td>44.871170</td>\n",
       "      <td>19.684962</td>\n",
       "      <td>44.318555</td>\n",
       "      <td>49.787697</td>\n",
       "      <td>50.623690</td>\n",
       "    </tr>\n",
       "    <tr>\n",
       "      <th>20</th>\n",
       "      <td>-8.400104</td>\n",
       "      <td>-1.569163</td>\n",
       "      <td>-22.291321</td>\n",
       "      <td>4.243292</td>\n",
       "      <td>-15.414846</td>\n",
       "      <td>-34.029247</td>\n",
       "    </tr>\n",
       "    <tr>\n",
       "      <th>21</th>\n",
       "      <td>-13.604793</td>\n",
       "      <td>-2.913630</td>\n",
       "      <td>-11.332279</td>\n",
       "      <td>0.487237</td>\n",
       "      <td>-9.323652</td>\n",
       "      <td>-4.187802</td>\n",
       "    </tr>\n",
       "  </tbody>\n",
       "</table>\n",
       "</div>"
      ],
      "text/plain": [
       "      new_reg   after_1m   after_2m   after_3m   after_4m   after_5m\n",
       "0   -4.590791   0.839437  -0.101318   2.459495  -2.247584  -2.769866\n",
       "1   -3.346974   4.264217   5.762056   8.336064   8.794453  -4.008535\n",
       "2   12.559870  13.174046  23.063838  28.022776  38.401010  14.081646\n",
       "3   21.219728  10.063373  15.816314  30.609564  33.190406   9.361546\n",
       "4    2.258589   4.679912  21.749115  14.724231  33.337848   9.913436\n",
       "5   -8.331899   3.259344  10.430508   4.304437  11.728689   1.429482\n",
       "6   -0.121159   5.458573  17.300451  33.574948  -3.022797   6.822054\n",
       "7   23.444584   5.308001   5.058805  49.408895  30.150465  22.360472\n",
       "8   53.437860  18.559052  46.605942  62.089044  60.973366  11.966213\n",
       "9   22.196431  17.256965  34.522816  40.431659  55.348940  14.050494\n",
       "10  -2.050202   0.914630   0.366927   0.428659  -2.905943  -2.110672\n",
       "11  -9.502831  23.403690  18.643395  14.155526 -14.408306   0.988191\n",
       "12   2.032610  34.556989  22.996629  33.731172  13.273739  14.813892\n",
       "13  11.986596  31.480279  12.237557  26.434039  32.620356   7.487515\n",
       "14  -4.307533  16.948678   6.321887  10.662086   4.251719  -2.252872\n",
       "15  -6.434308   5.615258   0.936628   4.176338   5.114861  10.001364\n",
       "16  -1.538902  51.640849  38.977859  51.111509  -3.433258  59.285677\n",
       "17  10.950245  71.705986  -5.023377  10.195730 -10.827793  -2.035814\n",
       "18  34.459172  77.640659  49.814645  41.877623  36.208462  28.014931\n",
       "19  20.195143  44.871170  19.684962  44.318555  49.787697  50.623690\n",
       "20  -8.400104  -1.569163 -22.291321   4.243292 -15.414846 -34.029247\n",
       "21 -13.604793  -2.913630 -11.332279   0.487237  -9.323652  -4.187802"
      ]
     },
     "execution_count": 43,
     "metadata": {},
     "output_type": "execute_result"
    }
   ],
   "source": [
    "pred"
   ]
  },
  {
   "cell_type": "code",
   "execution_count": 44,
   "id": "328c22e7",
   "metadata": {},
   "outputs": [],
   "source": [
    "raw_data = data.drop(['Reach12+', 'Reach15+', 'year'],1)"
   ]
  },
  {
   "cell_type": "code",
   "execution_count": null,
   "id": "9912f05a",
   "metadata": {},
   "outputs": [],
   "source": [
    "0, 5, 10, 14, 15"
   ]
  },
  {
   "cell_type": "code",
   "execution_count": 62,
   "id": "04af2408",
   "metadata": {},
   "outputs": [],
   "source": [
    "test = raw_data.iloc[[0, 5, 10, 14, 15]]"
   ]
  },
  {
   "cell_type": "code",
   "execution_count": 63,
   "id": "e1d86e0d",
   "metadata": {},
   "outputs": [],
   "source": [
    "test.reset_index(drop=True, inplace=True)"
   ]
  },
  {
   "cell_type": "code",
   "execution_count": 64,
   "id": "4fb420d3",
   "metadata": {},
   "outputs": [
    {
     "data": {
      "text/plain": [
       "Index(['grp', 'sp', 'Aud', 'Reach1+', 'Reach3+', 'Reach5+', 'Reach7+',\n",
       "       'Reach9+', 'new_reg', 'after_1m', 'after_2m', 'after_3m', 'after_4m',\n",
       "       'after_5m', 'after_6m', 'Month_01월', 'Month_02월', 'Month_03월',\n",
       "       'Month_04월', 'Month_05월', 'Month_06월', 'Month_07월', 'Month_08월',\n",
       "       'Month_09월', 'Month_10월', 'Month_11월', 'Month_12월', 'ad_id_남20대',\n",
       "       'ad_id_남30대', 'ad_id_남40대', 'ad_id_남50대', 'ad_id_남60대', 'ad_id_여20대',\n",
       "       'ad_id_여30대', 'ad_id_여40대', 'ad_id_여50대', 'ad_id_여60대', 'log_0',\n",
       "       'log_1', 'log_2', 'log_3', 'log_4', 'log_5', 'log_6', 'ZSCORE'],\n",
       "      dtype='object')"
      ]
     },
     "execution_count": 64,
     "metadata": {},
     "output_type": "execute_result"
    }
   ],
   "source": [
    "test.columns"
   ]
  },
  {
   "cell_type": "code",
   "execution_count": 71,
   "id": "60472afe",
   "metadata": {},
   "outputs": [],
   "source": [
    "test.to_csv('./toyota_test.csv', index=False)"
   ]
  },
  {
   "cell_type": "code",
   "execution_count": 74,
   "id": "1e649735",
   "metadata": {},
   "outputs": [],
   "source": [
    "test = pd.read_csv('./toyota_test.csv')"
   ]
  },
  {
   "cell_type": "code",
   "execution_count": 76,
   "id": "41ff05e2",
   "metadata": {},
   "outputs": [
    {
     "data": {
      "text/plain": [
       "Index(['grp', 'sp', 'Aud', 'Reach1+', 'Reach3+', 'Reach5+', 'Reach7+',\n",
       "       'Reach9+', 'new_reg', 'after_1m', 'after_2m', 'after_3m', 'after_4m',\n",
       "       'after_5m', 'after_6m', 'Month_01월', 'Month_02월', 'Month_03월',\n",
       "       'Month_04월', 'Month_05월', 'Month_06월', 'Month_07월', 'Month_08월',\n",
       "       'Month_09월', 'Month_10월', 'Month_11월', 'Month_12월', 'ad_id_남20대',\n",
       "       'ad_id_남30대', 'ad_id_남40대', 'ad_id_남50대', 'ad_id_남60대', 'ad_id_여20대',\n",
       "       'ad_id_여30대', 'ad_id_여40대', 'ad_id_여50대', 'ad_id_여60대', 'log_0',\n",
       "       'log_1', 'log_2', 'log_3', 'log_4', 'log_5', 'log_6', 'ZSCORE'],\n",
       "      dtype='object')"
      ]
     },
     "execution_count": 76,
     "metadata": {},
     "output_type": "execute_result"
    }
   ],
   "source": [
    "test.columns"
   ]
  },
  {
   "cell_type": "code",
   "execution_count": 73,
   "id": "eb30b3b1",
   "metadata": {},
   "outputs": [
    {
     "data": {
      "text/plain": [
       "Index(['grp', 'sp', 'Aud', 'Reach1+', 'Reach3+', 'Reach5+', 'Reach7+',\n",
       "       'Reach9+', 'Month_01월', 'Month_02월', 'Month_03월', 'Month_04월',\n",
       "       'Month_05월', 'Month_06월', 'Month_07월', 'Month_08월', 'Month_09월',\n",
       "       'Month_10월', 'Month_11월', 'Month_12월', 'ad_id_남20대', 'ad_id_남30대',\n",
       "       'ad_id_남40대', 'ad_id_남50대', 'ad_id_남60대', 'ad_id_여20대', 'ad_id_여30대',\n",
       "       'ad_id_여40대', 'ad_id_여50대', 'ad_id_여60대', 'ZSCORE'],\n",
       "      dtype='object')"
      ]
     },
     "execution_count": 73,
     "metadata": {},
     "output_type": "execute_result"
    }
   ],
   "source": [
    "test0.columns"
   ]
  },
  {
   "cell_type": "code",
   "execution_count": 65,
   "id": "af088a86",
   "metadata": {},
   "outputs": [],
   "source": [
    "test0 = test.drop(['new_reg', 'after_1m', 'after_2m', 'after_3m', 'after_4m',\n",
    "       'after_5m', 'after_6m', 'log_0',\n",
    "       'log_1', 'log_2', 'log_3', 'log_4', 'log_5', 'log_6'], 1)"
   ]
  },
  {
   "cell_type": "code",
   "execution_count": 59,
   "id": "56779e03",
   "metadata": {
    "scrolled": true
   },
   "outputs": [],
   "source": [
    "test2 = ss_f.transform(test)"
   ]
  },
  {
   "cell_type": "code",
   "execution_count": 67,
   "id": "68111cfd",
   "metadata": {},
   "outputs": [
    {
     "name": "stdout",
     "output_type": "stream",
     "text": [
      "WARNING:tensorflow:Model was constructed with shape (None, 463, 31) for input KerasTensor(type_spec=TensorSpec(shape=(None, 463, 31), dtype=tf.float32, name='dense_input'), name='dense_input', description=\"created by layer 'dense_input'\"), but it was called on an input with incompatible shape (None, 31).\n",
      "WARNING:tensorflow:11 out of the last 11 calls to <function Model.make_predict_function.<locals>.predict_function at 0x7fd7eb8e77a0> triggered tf.function retracing. Tracing is expensive and the excessive number of tracings could be due to (1) creating @tf.function repeatedly in a loop, (2) passing tensors with different shapes, (3) passing Python objects instead of tensors. For (1), please define your @tf.function outside of the loop. For (2), @tf.function has experimental_relax_shapes=True option that relaxes argument shapes that can avoid unnecessary retracing. For (3), please refer to https://www.tensorflow.org/guide/function#controlling_retracing and https://www.tensorflow.org/api_docs/python/tf/function for  more details.\n",
      "WARNING:tensorflow:Model was constructed with shape (None, 463, 31) for input KerasTensor(type_spec=TensorSpec(shape=(None, 463, 31), dtype=tf.float32, name='dense_input'), name='dense_input', description=\"created by layer 'dense_input'\"), but it was called on an input with incompatible shape (None, 31).\n",
      "WARNING:tensorflow:11 out of the last 11 calls to <function Model.make_predict_function.<locals>.predict_function at 0x7fd803fa1440> triggered tf.function retracing. Tracing is expensive and the excessive number of tracings could be due to (1) creating @tf.function repeatedly in a loop, (2) passing tensors with different shapes, (3) passing Python objects instead of tensors. For (1), please define your @tf.function outside of the loop. For (2), @tf.function has experimental_relax_shapes=True option that relaxes argument shapes that can avoid unnecessary retracing. For (3), please refer to https://www.tensorflow.org/guide/function#controlling_retracing and https://www.tensorflow.org/api_docs/python/tf/function for  more details.\n",
      "WARNING:tensorflow:Model was constructed with shape (None, 463, 31) for input KerasTensor(type_spec=TensorSpec(shape=(None, 463, 31), dtype=tf.float32, name='dense_input'), name='dense_input', description=\"created by layer 'dense_input'\"), but it was called on an input with incompatible shape (None, 31).\n",
      "WARNING:tensorflow:11 out of the last 11 calls to <function Model.make_predict_function.<locals>.predict_function at 0x7fd7ed3ba320> triggered tf.function retracing. Tracing is expensive and the excessive number of tracings could be due to (1) creating @tf.function repeatedly in a loop, (2) passing tensors with different shapes, (3) passing Python objects instead of tensors. For (1), please define your @tf.function outside of the loop. For (2), @tf.function has experimental_relax_shapes=True option that relaxes argument shapes that can avoid unnecessary retracing. For (3), please refer to https://www.tensorflow.org/guide/function#controlling_retracing and https://www.tensorflow.org/api_docs/python/tf/function for  more details.\n",
      "WARNING:tensorflow:Model was constructed with shape (None, 463, 31) for input KerasTensor(type_spec=TensorSpec(shape=(None, 463, 31), dtype=tf.float32, name='dense_input'), name='dense_input', description=\"created by layer 'dense_input'\"), but it was called on an input with incompatible shape (None, 31).\n",
      "WARNING:tensorflow:11 out of the last 11 calls to <function Model.make_predict_function.<locals>.predict_function at 0x7fd7ebe969e0> triggered tf.function retracing. Tracing is expensive and the excessive number of tracings could be due to (1) creating @tf.function repeatedly in a loop, (2) passing tensors with different shapes, (3) passing Python objects instead of tensors. For (1), please define your @tf.function outside of the loop. For (2), @tf.function has experimental_relax_shapes=True option that relaxes argument shapes that can avoid unnecessary retracing. For (3), please refer to https://www.tensorflow.org/guide/function#controlling_retracing and https://www.tensorflow.org/api_docs/python/tf/function for  more details.\n",
      "WARNING:tensorflow:Model was constructed with shape (None, 463, 31) for input KerasTensor(type_spec=TensorSpec(shape=(None, 463, 31), dtype=tf.float32, name='dense_input'), name='dense_input', description=\"created by layer 'dense_input'\"), but it was called on an input with incompatible shape (None, 31).\n",
      "WARNING:tensorflow:11 out of the last 11 calls to <function Model.make_predict_function.<locals>.predict_function at 0x7fd7ebe324d0> triggered tf.function retracing. Tracing is expensive and the excessive number of tracings could be due to (1) creating @tf.function repeatedly in a loop, (2) passing tensors with different shapes, (3) passing Python objects instead of tensors. For (1), please define your @tf.function outside of the loop. For (2), @tf.function has experimental_relax_shapes=True option that relaxes argument shapes that can avoid unnecessary retracing. For (3), please refer to https://www.tensorflow.org/guide/function#controlling_retracing and https://www.tensorflow.org/api_docs/python/tf/function for  more details.\n",
      "WARNING:tensorflow:Model was constructed with shape (None, 463, 31) for input KerasTensor(type_spec=TensorSpec(shape=(None, 463, 31), dtype=tf.float32, name='dense_input'), name='dense_input', description=\"created by layer 'dense_input'\"), but it was called on an input with incompatible shape (None, 31).\n",
      "WARNING:tensorflow:11 out of the last 11 calls to <function Model.make_predict_function.<locals>.predict_function at 0x7fd7eb8ee320> triggered tf.function retracing. Tracing is expensive and the excessive number of tracings could be due to (1) creating @tf.function repeatedly in a loop, (2) passing tensors with different shapes, (3) passing Python objects instead of tensors. For (1), please define your @tf.function outside of the loop. For (2), @tf.function has experimental_relax_shapes=True option that relaxes argument shapes that can avoid unnecessary retracing. For (3), please refer to https://www.tensorflow.org/guide/function#controlling_retracing and https://www.tensorflow.org/api_docs/python/tf/function for  more details.\n",
      "WARNING:tensorflow:Model was constructed with shape (None, 463, 31) for input KerasTensor(type_spec=TensorSpec(shape=(None, 463, 31), dtype=tf.float32, name='dense_input'), name='dense_input', description=\"created by layer 'dense_input'\"), but it was called on an input with incompatible shape (None, 31).\n",
      "WARNING:tensorflow:11 out of the last 11 calls to <function Model.make_predict_function.<locals>.predict_function at 0x7fd7ebdba050> triggered tf.function retracing. Tracing is expensive and the excessive number of tracings could be due to (1) creating @tf.function repeatedly in a loop, (2) passing tensors with different shapes, (3) passing Python objects instead of tensors. For (1), please define your @tf.function outside of the loop. For (2), @tf.function has experimental_relax_shapes=True option that relaxes argument shapes that can avoid unnecessary retracing. For (3), please refer to https://www.tensorflow.org/guide/function#controlling_retracing and https://www.tensorflow.org/api_docs/python/tf/function for  more details.\n"
     ]
    }
   ],
   "source": [
    "model = load_model(\"./elu_SGD_final/0_best_model.h5\")\n",
    "reg_0 = test[['new_reg']]+1 - np.exp(model.predict(test2))\n",
    "\n",
    "model = load_model(\"./elu_adam_final/1_best_model.h5\")\n",
    "reg_1 = test[['after_1m']]+1 - np.exp(model.predict(test2))\n",
    "\n",
    "model = load_model(\"./elu_SGD_final/2_best_model.h5\")\n",
    "reg_2 = test[['after_2m']]+1 - np.exp(model.predict(test2))\n",
    "\n",
    "model = load_model(\"./elu_adam_final/3_best_model.h5\")\n",
    "reg_3 = test[['after_3m']]+1 - np.exp(model.predict(test2))\n",
    "\n",
    "model = load_model(\"./elu_SGD_final/4_best_model.h5\")\n",
    "reg_4 = test[['after_4m']]+1 - np.exp(model.predict(test2))\n",
    "\n",
    "model = load_model(\"./elu_adam_final/5_best_model.h5\")\n",
    "reg_5 = test[['after_5m']]+1 - np.exp(model.predict(test2))\n",
    "\n",
    "model = load_model(\"./elu_SGD_final/6_best_model.h5\")\n",
    "reg_6 = test[['after_6m']]+1 - np.exp(model.predict(test2))"
   ]
  },
  {
   "cell_type": "code",
   "execution_count": 68,
   "id": "536627d0",
   "metadata": {},
   "outputs": [],
   "source": [
    "pred = pd.concat([reg_0,reg_1,reg_2,reg_3,reg_4,reg_5],1)"
   ]
  },
  {
   "cell_type": "code",
   "execution_count": 69,
   "id": "ec367da9",
   "metadata": {},
   "outputs": [
    {
     "data": {
      "text/html": [
       "<div>\n",
       "<style scoped>\n",
       "    .dataframe tbody tr th:only-of-type {\n",
       "        vertical-align: middle;\n",
       "    }\n",
       "\n",
       "    .dataframe tbody tr th {\n",
       "        vertical-align: top;\n",
       "    }\n",
       "\n",
       "    .dataframe thead th {\n",
       "        text-align: right;\n",
       "    }\n",
       "</style>\n",
       "<table border=\"1\" class=\"dataframe\">\n",
       "  <thead>\n",
       "    <tr style=\"text-align: right;\">\n",
       "      <th></th>\n",
       "      <th>new_reg</th>\n",
       "      <th>after_1m</th>\n",
       "      <th>after_2m</th>\n",
       "      <th>after_3m</th>\n",
       "      <th>after_4m</th>\n",
       "      <th>after_5m</th>\n",
       "    </tr>\n",
       "  </thead>\n",
       "  <tbody>\n",
       "    <tr>\n",
       "      <th>0</th>\n",
       "      <td>-4.590791</td>\n",
       "      <td>0.839437</td>\n",
       "      <td>-0.101318</td>\n",
       "      <td>2.459495</td>\n",
       "      <td>-2.247584</td>\n",
       "      <td>-2.769866</td>\n",
       "    </tr>\n",
       "    <tr>\n",
       "      <th>1</th>\n",
       "      <td>-8.331899</td>\n",
       "      <td>3.259344</td>\n",
       "      <td>10.430508</td>\n",
       "      <td>4.304437</td>\n",
       "      <td>11.728689</td>\n",
       "      <td>1.429482</td>\n",
       "    </tr>\n",
       "    <tr>\n",
       "      <th>2</th>\n",
       "      <td>-2.050202</td>\n",
       "      <td>0.914630</td>\n",
       "      <td>0.366927</td>\n",
       "      <td>0.428659</td>\n",
       "      <td>-2.905943</td>\n",
       "      <td>-2.110672</td>\n",
       "    </tr>\n",
       "    <tr>\n",
       "      <th>3</th>\n",
       "      <td>-4.307533</td>\n",
       "      <td>16.948678</td>\n",
       "      <td>6.321887</td>\n",
       "      <td>10.662086</td>\n",
       "      <td>4.251719</td>\n",
       "      <td>-2.252872</td>\n",
       "    </tr>\n",
       "    <tr>\n",
       "      <th>4</th>\n",
       "      <td>-6.434308</td>\n",
       "      <td>5.615258</td>\n",
       "      <td>0.936628</td>\n",
       "      <td>4.176338</td>\n",
       "      <td>5.114861</td>\n",
       "      <td>10.001364</td>\n",
       "    </tr>\n",
       "  </tbody>\n",
       "</table>\n",
       "</div>"
      ],
      "text/plain": [
       "    new_reg   after_1m   after_2m   after_3m   after_4m   after_5m\n",
       "0 -4.590791   0.839437  -0.101318   2.459495  -2.247584  -2.769866\n",
       "1 -8.331899   3.259344  10.430508   4.304437  11.728689   1.429482\n",
       "2 -2.050202   0.914630   0.366927   0.428659  -2.905943  -2.110672\n",
       "3 -4.307533  16.948678   6.321887  10.662086   4.251719  -2.252872\n",
       "4 -6.434308   5.615258   0.936628   4.176338   5.114861  10.001364"
      ]
     },
     "execution_count": 69,
     "metadata": {},
     "output_type": "execute_result"
    }
   ],
   "source": [
    "pred"
   ]
  },
  {
   "cell_type": "code",
   "execution_count": null,
   "id": "604cf56e",
   "metadata": {},
   "outputs": [],
   "source": []
  }
 ],
 "metadata": {
  "kernelspec": {
   "display_name": "Python 3",
   "language": "python",
   "name": "python3"
  },
  "language_info": {
   "codemirror_mode": {
    "name": "ipython",
    "version": 3
   },
   "file_extension": ".py",
   "mimetype": "text/x-python",
   "name": "python",
   "nbconvert_exporter": "python",
   "pygments_lexer": "ipython3",
   "version": "3.7.10"
  }
 },
 "nbformat": 4,
 "nbformat_minor": 5
}
